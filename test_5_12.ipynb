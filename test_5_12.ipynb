{
 "cells": [
  {
   "cell_type": "markdown",
   "id": "5b486d46",
   "metadata": {},
   "source": [
    "# データハンドリング実技試験\n",
    "4つのファイルに入ったデータを使って、架空の小売店チェーンのデータを集計する。\n",
    "___"
   ]
  },
  {
   "cell_type": "markdown",
   "id": "2cb5e7fa",
   "metadata": {},
   "source": [
    "## データを読み込む"
   ]
  },
  {
   "cell_type": "code",
   "execution_count": 35,
   "id": "aaea704e",
   "metadata": {},
   "outputs": [],
   "source": [
    "#1\n",
    "\n",
    "import pandas as pd\n",
    "import numpy as np\n",
    "import warnings\n",
    "warnings.filterwarnings(\"ignore\")"
   ]
  },
  {
   "cell_type": "code",
   "execution_count": 36,
   "id": "225f0134",
   "metadata": {},
   "outputs": [],
   "source": [
    "#2\n",
    "\n",
    "transactions_df = pd.read_csv('transactions_ver20211022.csv')\n",
    "items_df = pd.read_csv('items_ver20211022.csv')\n",
    "shops_df = pd.read_csv('shops_ver20211022.csv')\n",
    "users_df = pd.read_csv('users_ver20211022.csv')"
   ]
  },
  {
   "cell_type": "markdown",
   "id": "2b3d0b4e",
   "metadata": {},
   "source": [
    "## データの概要を把握する\n",
    "- カラム、値、行数、欠損値、データタイプを確認する。"
   ]
  },
  {
   "cell_type": "markdown",
   "id": "69eef91d",
   "metadata": {},
   "source": [
    "transactions_ver20211022.csvを確認。"
   ]
  },
  {
   "cell_type": "code",
   "execution_count": 37,
   "id": "81dc3c86",
   "metadata": {},
   "outputs": [
    {
     "data": {
      "text/html": [
       "<div>\n",
       "<style scoped>\n",
       "    .dataframe tbody tr th:only-of-type {\n",
       "        vertical-align: middle;\n",
       "    }\n",
       "\n",
       "    .dataframe tbody tr th {\n",
       "        vertical-align: top;\n",
       "    }\n",
       "\n",
       "    .dataframe thead th {\n",
       "        text-align: right;\n",
       "    }\n",
       "</style>\n",
       "<table border=\"1\" class=\"dataframe\">\n",
       "  <thead>\n",
       "    <tr style=\"text-align: right;\">\n",
       "      <th></th>\n",
       "      <th>basket_id</th>\n",
       "      <th>shop_id</th>\n",
       "      <th>user_id</th>\n",
       "      <th>item_id</th>\n",
       "      <th>buy_date</th>\n",
       "    </tr>\n",
       "  </thead>\n",
       "  <tbody>\n",
       "    <tr>\n",
       "      <th>0</th>\n",
       "      <td>1</td>\n",
       "      <td>7</td>\n",
       "      <td>88</td>\n",
       "      <td>10</td>\n",
       "      <td>2019-11-22</td>\n",
       "    </tr>\n",
       "    <tr>\n",
       "      <th>1</th>\n",
       "      <td>1</td>\n",
       "      <td>7</td>\n",
       "      <td>88</td>\n",
       "      <td>12</td>\n",
       "      <td>2019-11-22</td>\n",
       "    </tr>\n",
       "    <tr>\n",
       "      <th>2</th>\n",
       "      <td>1</td>\n",
       "      <td>7</td>\n",
       "      <td>88</td>\n",
       "      <td>18</td>\n",
       "      <td>2019-11-22</td>\n",
       "    </tr>\n",
       "    <tr>\n",
       "      <th>3</th>\n",
       "      <td>1</td>\n",
       "      <td>7</td>\n",
       "      <td>88</td>\n",
       "      <td>26</td>\n",
       "      <td>2019-11-22</td>\n",
       "    </tr>\n",
       "    <tr>\n",
       "      <th>4</th>\n",
       "      <td>1</td>\n",
       "      <td>7</td>\n",
       "      <td>88</td>\n",
       "      <td>64</td>\n",
       "      <td>2019-11-22</td>\n",
       "    </tr>\n",
       "  </tbody>\n",
       "</table>\n",
       "</div>"
      ],
      "text/plain": [
       "   basket_id  shop_id  user_id  item_id    buy_date\n",
       "0          1        7       88       10  2019-11-22\n",
       "1          1        7       88       12  2019-11-22\n",
       "2          1        7       88       18  2019-11-22\n",
       "3          1        7       88       26  2019-11-22\n",
       "4          1        7       88       64  2019-11-22"
      ]
     },
     "execution_count": 37,
     "metadata": {},
     "output_type": "execute_result"
    }
   ],
   "source": [
    "#3\n",
    "\n",
    "transactions_df.head()"
   ]
  },
  {
   "cell_type": "code",
   "execution_count": 38,
   "id": "666bcfac",
   "metadata": {},
   "outputs": [
    {
     "data": {
      "text/plain": [
       "22556"
      ]
     },
     "execution_count": 38,
     "metadata": {},
     "output_type": "execute_result"
    }
   ],
   "source": [
    "#4\n",
    "\n",
    "#行数を確認する。\n",
    "len(transactions_df)"
   ]
  },
  {
   "cell_type": "code",
   "execution_count": 39,
   "id": "bb736369",
   "metadata": {},
   "outputs": [
    {
     "name": "stdout",
     "output_type": "stream",
     "text": [
      "<class 'pandas.core.frame.DataFrame'>\n",
      "RangeIndex: 22556 entries, 0 to 22555\n",
      "Data columns (total 5 columns):\n",
      " #   Column     Non-Null Count  Dtype \n",
      "---  ------     --------------  ----- \n",
      " 0   basket_id  22556 non-null  int64 \n",
      " 1   shop_id    22556 non-null  int64 \n",
      " 2   user_id    22556 non-null  int64 \n",
      " 3   item_id    22556 non-null  int64 \n",
      " 4   buy_date   22556 non-null  object\n",
      "dtypes: int64(4), object(1)\n",
      "memory usage: 881.2+ KB\n"
     ]
    }
   ],
   "source": [
    "#5\n",
    "\n",
    "transactions_df.info()"
   ]
  },
  {
   "cell_type": "markdown",
   "id": "a1c5f7e3",
   "metadata": {},
   "source": [
    "items_ver20211022.csvを確認。"
   ]
  },
  {
   "cell_type": "code",
   "execution_count": 40,
   "id": "699a0948",
   "metadata": {},
   "outputs": [
    {
     "data": {
      "text/html": [
       "<div>\n",
       "<style scoped>\n",
       "    .dataframe tbody tr th:only-of-type {\n",
       "        vertical-align: middle;\n",
       "    }\n",
       "\n",
       "    .dataframe tbody tr th {\n",
       "        vertical-align: top;\n",
       "    }\n",
       "\n",
       "    .dataframe thead th {\n",
       "        text-align: right;\n",
       "    }\n",
       "</style>\n",
       "<table border=\"1\" class=\"dataframe\">\n",
       "  <thead>\n",
       "    <tr style=\"text-align: right;\">\n",
       "      <th></th>\n",
       "      <th>item_id</th>\n",
       "      <th>item_name</th>\n",
       "      <th>item_price</th>\n",
       "      <th>category_lv1</th>\n",
       "      <th>category_lv2</th>\n",
       "    </tr>\n",
       "  </thead>\n",
       "  <tbody>\n",
       "    <tr>\n",
       "      <th>0</th>\n",
       "      <td>1</td>\n",
       "      <td>商品00001</td>\n",
       "      <td>5169</td>\n",
       "      <td>チルド売り場</td>\n",
       "      <td>飲料</td>\n",
       "    </tr>\n",
       "    <tr>\n",
       "      <th>1</th>\n",
       "      <td>2</td>\n",
       "      <td>商品00002</td>\n",
       "      <td>889</td>\n",
       "      <td>消耗品</td>\n",
       "      <td>洗剤</td>\n",
       "    </tr>\n",
       "    <tr>\n",
       "      <th>2</th>\n",
       "      <td>3</td>\n",
       "      <td>商品00003</td>\n",
       "      <td>4848</td>\n",
       "      <td>消耗品</td>\n",
       "      <td>フレグランス</td>\n",
       "    </tr>\n",
       "    <tr>\n",
       "      <th>3</th>\n",
       "      <td>4</td>\n",
       "      <td>商品00004</td>\n",
       "      <td>4194</td>\n",
       "      <td>消耗品</td>\n",
       "      <td>化粧品</td>\n",
       "    </tr>\n",
       "    <tr>\n",
       "      <th>4</th>\n",
       "      <td>5</td>\n",
       "      <td>商品00005</td>\n",
       "      <td>6152</td>\n",
       "      <td>常温売り場</td>\n",
       "      <td>菓子</td>\n",
       "    </tr>\n",
       "  </tbody>\n",
       "</table>\n",
       "</div>"
      ],
      "text/plain": [
       "   item_id item_name  item_price category_lv1 category_lv2\n",
       "0        1   商品00001        5169       チルド売り場           飲料\n",
       "1        2   商品00002         889          消耗品           洗剤\n",
       "2        3   商品00003        4848          消耗品       フレグランス\n",
       "3        4   商品00004        4194          消耗品          化粧品\n",
       "4        5   商品00005        6152        常温売り場           菓子"
      ]
     },
     "execution_count": 40,
     "metadata": {},
     "output_type": "execute_result"
    }
   ],
   "source": [
    "#6\n",
    "\n",
    "items_df.head()"
   ]
  },
  {
   "cell_type": "code",
   "execution_count": 41,
   "id": "f88f90a9",
   "metadata": {},
   "outputs": [
    {
     "data": {
      "text/plain": [
       "100"
      ]
     },
     "execution_count": 41,
     "metadata": {},
     "output_type": "execute_result"
    }
   ],
   "source": [
    "#7\n",
    "\n",
    "#行数を確認する。\n",
    "len(items_df)"
   ]
  },
  {
   "cell_type": "code",
   "execution_count": 42,
   "id": "39f2f687",
   "metadata": {},
   "outputs": [
    {
     "name": "stdout",
     "output_type": "stream",
     "text": [
      "<class 'pandas.core.frame.DataFrame'>\n",
      "RangeIndex: 100 entries, 0 to 99\n",
      "Data columns (total 5 columns):\n",
      " #   Column        Non-Null Count  Dtype \n",
      "---  ------        --------------  ----- \n",
      " 0   item_id       100 non-null    int64 \n",
      " 1   item_name     100 non-null    object\n",
      " 2   item_price    100 non-null    int64 \n",
      " 3   category_lv1  100 non-null    object\n",
      " 4   category_lv2  100 non-null    object\n",
      "dtypes: int64(2), object(3)\n",
      "memory usage: 4.0+ KB\n"
     ]
    }
   ],
   "source": [
    "#8\n",
    "\n",
    "items_df.info()"
   ]
  },
  {
   "cell_type": "markdown",
   "id": "1193d4a7",
   "metadata": {},
   "source": [
    "shops_ver20211022.csvを確認。"
   ]
  },
  {
   "cell_type": "code",
   "execution_count": 43,
   "id": "504c95cc",
   "metadata": {},
   "outputs": [
    {
     "data": {
      "text/html": [
       "<div>\n",
       "<style scoped>\n",
       "    .dataframe tbody tr th:only-of-type {\n",
       "        vertical-align: middle;\n",
       "    }\n",
       "\n",
       "    .dataframe tbody tr th {\n",
       "        vertical-align: top;\n",
       "    }\n",
       "\n",
       "    .dataframe thead th {\n",
       "        text-align: right;\n",
       "    }\n",
       "</style>\n",
       "<table border=\"1\" class=\"dataframe\">\n",
       "  <thead>\n",
       "    <tr style=\"text-align: right;\">\n",
       "      <th></th>\n",
       "      <th>shop_id</th>\n",
       "      <th>reginon</th>\n",
       "      <th>name</th>\n",
       "    </tr>\n",
       "  </thead>\n",
       "  <tbody>\n",
       "    <tr>\n",
       "      <th>0</th>\n",
       "      <td>1</td>\n",
       "      <td>智頭町</td>\n",
       "      <td>智頭町店</td>\n",
       "    </tr>\n",
       "    <tr>\n",
       "      <th>1</th>\n",
       "      <td>2</td>\n",
       "      <td>南陽市</td>\n",
       "      <td>南陽市店</td>\n",
       "    </tr>\n",
       "    <tr>\n",
       "      <th>2</th>\n",
       "      <td>3</td>\n",
       "      <td>須坂市</td>\n",
       "      <td>須坂市店</td>\n",
       "    </tr>\n",
       "    <tr>\n",
       "      <th>3</th>\n",
       "      <td>4</td>\n",
       "      <td>上富田町</td>\n",
       "      <td>上富田町店</td>\n",
       "    </tr>\n",
       "    <tr>\n",
       "      <th>4</th>\n",
       "      <td>5</td>\n",
       "      <td>三鷹市</td>\n",
       "      <td>三鷹市店</td>\n",
       "    </tr>\n",
       "  </tbody>\n",
       "</table>\n",
       "</div>"
      ],
      "text/plain": [
       "   shop_id reginon   name\n",
       "0        1     智頭町   智頭町店\n",
       "1        2     南陽市   南陽市店\n",
       "2        3     須坂市   須坂市店\n",
       "3        4    上富田町  上富田町店\n",
       "4        5     三鷹市   三鷹市店"
      ]
     },
     "execution_count": 43,
     "metadata": {},
     "output_type": "execute_result"
    }
   ],
   "source": [
    "#7\n",
    "\n",
    "shops_df.head()"
   ]
  },
  {
   "cell_type": "code",
   "execution_count": 44,
   "id": "81b84623",
   "metadata": {},
   "outputs": [
    {
     "data": {
      "text/plain": [
       "20"
      ]
     },
     "execution_count": 44,
     "metadata": {},
     "output_type": "execute_result"
    }
   ],
   "source": [
    "#8\n",
    "\n",
    "#行数を確認する。\n",
    "len(shops_df)"
   ]
  },
  {
   "cell_type": "code",
   "execution_count": 45,
   "id": "024e1caf",
   "metadata": {},
   "outputs": [
    {
     "name": "stdout",
     "output_type": "stream",
     "text": [
      "<class 'pandas.core.frame.DataFrame'>\n",
      "RangeIndex: 20 entries, 0 to 19\n",
      "Data columns (total 3 columns):\n",
      " #   Column   Non-Null Count  Dtype \n",
      "---  ------   --------------  ----- \n",
      " 0   shop_id  20 non-null     int64 \n",
      " 1   reginon  20 non-null     object\n",
      " 2   name     20 non-null     object\n",
      "dtypes: int64(1), object(2)\n",
      "memory usage: 608.0+ bytes\n"
     ]
    }
   ],
   "source": [
    "#9\n",
    "\n",
    "shops_df.info()"
   ]
  },
  {
   "cell_type": "markdown",
   "id": "c0812b46",
   "metadata": {},
   "source": [
    "users_ver20211022.csvを確認。"
   ]
  },
  {
   "cell_type": "code",
   "execution_count": 46,
   "id": "e327c068",
   "metadata": {},
   "outputs": [
    {
     "data": {
      "text/html": [
       "<div>\n",
       "<style scoped>\n",
       "    .dataframe tbody tr th:only-of-type {\n",
       "        vertical-align: middle;\n",
       "    }\n",
       "\n",
       "    .dataframe tbody tr th {\n",
       "        vertical-align: top;\n",
       "    }\n",
       "\n",
       "    .dataframe thead th {\n",
       "        text-align: right;\n",
       "    }\n",
       "</style>\n",
       "<table border=\"1\" class=\"dataframe\">\n",
       "  <thead>\n",
       "    <tr style=\"text-align: right;\">\n",
       "      <th></th>\n",
       "      <th>user_id</th>\n",
       "      <th>name</th>\n",
       "      <th>sex</th>\n",
       "      <th>age</th>\n",
       "    </tr>\n",
       "  </thead>\n",
       "  <tbody>\n",
       "    <tr>\n",
       "      <th>0</th>\n",
       "      <td>1</td>\n",
       "      <td>利用者00001</td>\n",
       "      <td>female</td>\n",
       "      <td>1</td>\n",
       "    </tr>\n",
       "    <tr>\n",
       "      <th>1</th>\n",
       "      <td>2</td>\n",
       "      <td>利用者00002</td>\n",
       "      <td>male</td>\n",
       "      <td>25</td>\n",
       "    </tr>\n",
       "    <tr>\n",
       "      <th>2</th>\n",
       "      <td>3</td>\n",
       "      <td>利用者00003</td>\n",
       "      <td>male</td>\n",
       "      <td>5</td>\n",
       "    </tr>\n",
       "    <tr>\n",
       "      <th>3</th>\n",
       "      <td>4</td>\n",
       "      <td>利用者00004</td>\n",
       "      <td>male</td>\n",
       "      <td>38</td>\n",
       "    </tr>\n",
       "    <tr>\n",
       "      <th>4</th>\n",
       "      <td>5</td>\n",
       "      <td>利用者00005</td>\n",
       "      <td>male</td>\n",
       "      <td>92</td>\n",
       "    </tr>\n",
       "  </tbody>\n",
       "</table>\n",
       "</div>"
      ],
      "text/plain": [
       "   user_id      name     sex  age\n",
       "0        1  利用者00001  female    1\n",
       "1        2  利用者00002    male   25\n",
       "2        3  利用者00003    male    5\n",
       "3        4  利用者00004    male   38\n",
       "4        5  利用者00005    male   92"
      ]
     },
     "execution_count": 46,
     "metadata": {},
     "output_type": "execute_result"
    }
   ],
   "source": [
    "#10\n",
    "\n",
    "users_df.head()"
   ]
  },
  {
   "cell_type": "code",
   "execution_count": 47,
   "id": "9058deaf",
   "metadata": {},
   "outputs": [
    {
     "data": {
      "text/plain": [
       "100"
      ]
     },
     "execution_count": 47,
     "metadata": {},
     "output_type": "execute_result"
    }
   ],
   "source": [
    "#11\n",
    "\n",
    "#行数を確認する。\n",
    "len(users_df)"
   ]
  },
  {
   "cell_type": "code",
   "execution_count": 48,
   "id": "047a6d42",
   "metadata": {},
   "outputs": [
    {
     "name": "stdout",
     "output_type": "stream",
     "text": [
      "<class 'pandas.core.frame.DataFrame'>\n",
      "RangeIndex: 100 entries, 0 to 99\n",
      "Data columns (total 4 columns):\n",
      " #   Column   Non-Null Count  Dtype \n",
      "---  ------   --------------  ----- \n",
      " 0   user_id  100 non-null    int64 \n",
      " 1   name     100 non-null    object\n",
      " 2   sex      100 non-null    object\n",
      " 3   age      100 non-null    int64 \n",
      "dtypes: int64(2), object(2)\n",
      "memory usage: 3.2+ KB\n"
     ]
    }
   ],
   "source": [
    "#12\n",
    "\n",
    "users_df.info()"
   ]
  },
  {
   "cell_type": "markdown",
   "id": "ca03f6d9",
   "metadata": {},
   "source": [
    "## 前処理"
   ]
  },
  {
   "cell_type": "markdown",
   "id": "ea20c1ad",
   "metadata": {},
   "source": [
    "transactions_dfのカラム`buy_date`のデータタイプをdatetime64に変換する。"
   ]
  },
  {
   "cell_type": "code",
   "execution_count": 49,
   "id": "1a9c1514",
   "metadata": {},
   "outputs": [],
   "source": [
    "#13\n",
    "\n",
    "transactions_df['buy_date'] = pd.to_datetime(transactions_df['buy_date'], format='%Y-%m-%d')"
   ]
  },
  {
   "cell_type": "markdown",
   "id": "f1d3fb99",
   "metadata": {},
   "source": [
    "shops_dfのカラム`name`を`shop_name`に変更する。"
   ]
  },
  {
   "cell_type": "code",
   "execution_count": 50,
   "id": "7b0d14e5",
   "metadata": {},
   "outputs": [],
   "source": [
    "#14\n",
    "\n",
    "shops_df.rename(columns={'name': 'shop_name'}, inplace=True)"
   ]
  },
  {
   "cell_type": "markdown",
   "id": "55494cf9",
   "metadata": {},
   "source": [
    "users_dfのカラム`name`を`user_name`に変更する。"
   ]
  },
  {
   "cell_type": "code",
   "execution_count": 51,
   "id": "6aba3f2b",
   "metadata": {},
   "outputs": [],
   "source": [
    "#15\n",
    "\n",
    "users_df.rename(columns={'name': 'user_name'}, inplace=True)"
   ]
  },
  {
   "cell_type": "markdown",
   "id": "dc801e03",
   "metadata": {},
   "source": [
    "各データフレームを結合する。"
   ]
  },
  {
   "cell_type": "code",
   "execution_count": 52,
   "id": "b0fe89bc",
   "metadata": {},
   "outputs": [
    {
     "data": {
      "text/html": [
       "<div>\n",
       "<style scoped>\n",
       "    .dataframe tbody tr th:only-of-type {\n",
       "        vertical-align: middle;\n",
       "    }\n",
       "\n",
       "    .dataframe tbody tr th {\n",
       "        vertical-align: top;\n",
       "    }\n",
       "\n",
       "    .dataframe thead th {\n",
       "        text-align: right;\n",
       "    }\n",
       "</style>\n",
       "<table border=\"1\" class=\"dataframe\">\n",
       "  <thead>\n",
       "    <tr style=\"text-align: right;\">\n",
       "      <th></th>\n",
       "      <th>basket_id</th>\n",
       "      <th>shop_id</th>\n",
       "      <th>user_id</th>\n",
       "      <th>item_id</th>\n",
       "      <th>buy_date</th>\n",
       "      <th>item_name</th>\n",
       "      <th>item_price</th>\n",
       "      <th>category_lv1</th>\n",
       "      <th>category_lv2</th>\n",
       "      <th>reginon</th>\n",
       "      <th>shop_name</th>\n",
       "      <th>user_name</th>\n",
       "      <th>sex</th>\n",
       "      <th>age</th>\n",
       "    </tr>\n",
       "  </thead>\n",
       "  <tbody>\n",
       "    <tr>\n",
       "      <th>0</th>\n",
       "      <td>1</td>\n",
       "      <td>7</td>\n",
       "      <td>88</td>\n",
       "      <td>10</td>\n",
       "      <td>2019-11-22</td>\n",
       "      <td>商品00010</td>\n",
       "      <td>2232</td>\n",
       "      <td>常温売り場</td>\n",
       "      <td>即席食品</td>\n",
       "      <td>にかほ市</td>\n",
       "      <td>にかほ市店</td>\n",
       "      <td>利用者00088</td>\n",
       "      <td>male</td>\n",
       "      <td>38</td>\n",
       "    </tr>\n",
       "    <tr>\n",
       "      <th>1</th>\n",
       "      <td>1</td>\n",
       "      <td>7</td>\n",
       "      <td>88</td>\n",
       "      <td>12</td>\n",
       "      <td>2019-11-22</td>\n",
       "      <td>商品00012</td>\n",
       "      <td>2117</td>\n",
       "      <td>消耗品</td>\n",
       "      <td>化粧品</td>\n",
       "      <td>にかほ市</td>\n",
       "      <td>にかほ市店</td>\n",
       "      <td>利用者00088</td>\n",
       "      <td>male</td>\n",
       "      <td>38</td>\n",
       "    </tr>\n",
       "    <tr>\n",
       "      <th>2</th>\n",
       "      <td>1</td>\n",
       "      <td>7</td>\n",
       "      <td>88</td>\n",
       "      <td>18</td>\n",
       "      <td>2019-11-22</td>\n",
       "      <td>商品00018</td>\n",
       "      <td>9821</td>\n",
       "      <td>チルド売り場</td>\n",
       "      <td>加熱用野菜・きのこ</td>\n",
       "      <td>にかほ市</td>\n",
       "      <td>にかほ市店</td>\n",
       "      <td>利用者00088</td>\n",
       "      <td>male</td>\n",
       "      <td>38</td>\n",
       "    </tr>\n",
       "    <tr>\n",
       "      <th>3</th>\n",
       "      <td>1</td>\n",
       "      <td>7</td>\n",
       "      <td>88</td>\n",
       "      <td>26</td>\n",
       "      <td>2019-11-22</td>\n",
       "      <td>商品00026</td>\n",
       "      <td>5527</td>\n",
       "      <td>常温売り場</td>\n",
       "      <td>即席食品</td>\n",
       "      <td>にかほ市</td>\n",
       "      <td>にかほ市店</td>\n",
       "      <td>利用者00088</td>\n",
       "      <td>male</td>\n",
       "      <td>38</td>\n",
       "    </tr>\n",
       "    <tr>\n",
       "      <th>4</th>\n",
       "      <td>1</td>\n",
       "      <td>7</td>\n",
       "      <td>88</td>\n",
       "      <td>64</td>\n",
       "      <td>2019-11-22</td>\n",
       "      <td>商品00064</td>\n",
       "      <td>954</td>\n",
       "      <td>チルド売り場</td>\n",
       "      <td>チルドデザート</td>\n",
       "      <td>にかほ市</td>\n",
       "      <td>にかほ市店</td>\n",
       "      <td>利用者00088</td>\n",
       "      <td>male</td>\n",
       "      <td>38</td>\n",
       "    </tr>\n",
       "  </tbody>\n",
       "</table>\n",
       "</div>"
      ],
      "text/plain": [
       "   basket_id  shop_id  user_id  item_id   buy_date item_name  item_price  \\\n",
       "0          1        7       88       10 2019-11-22   商品00010        2232   \n",
       "1          1        7       88       12 2019-11-22   商品00012        2117   \n",
       "2          1        7       88       18 2019-11-22   商品00018        9821   \n",
       "3          1        7       88       26 2019-11-22   商品00026        5527   \n",
       "4          1        7       88       64 2019-11-22   商品00064         954   \n",
       "\n",
       "  category_lv1 category_lv2 reginon shop_name user_name   sex  age  \n",
       "0        常温売り場         即席食品    にかほ市     にかほ市店  利用者00088  male   38  \n",
       "1          消耗品          化粧品    にかほ市     にかほ市店  利用者00088  male   38  \n",
       "2       チルド売り場    加熱用野菜・きのこ    にかほ市     にかほ市店  利用者00088  male   38  \n",
       "3        常温売り場         即席食品    にかほ市     にかほ市店  利用者00088  male   38  \n",
       "4       チルド売り場      チルドデザート    にかほ市     にかほ市店  利用者00088  male   38  "
      ]
     },
     "execution_count": 52,
     "metadata": {},
     "output_type": "execute_result"
    }
   ],
   "source": [
    "#16\n",
    "\n",
    "combined_df = transactions_df.merge(items_df, on='item_id', how='left')\n",
    "combined_df = combined_df.merge(shops_df, on='shop_id', how='left')\n",
    "combined_df = combined_df.merge(users_df, on='user_id', how='left')\n",
    "combined_df.head()"
   ]
  },
  {
   "cell_type": "markdown",
   "id": "883bd6a9",
   "metadata": {},
   "source": [
    "結合したデータフレームの欠損値を確認。"
   ]
  },
  {
   "cell_type": "code",
   "execution_count": 53,
   "id": "e4a1ca80",
   "metadata": {},
   "outputs": [
    {
     "data": {
      "text/plain": [
       "basket_id       0\n",
       "shop_id         0\n",
       "user_id         0\n",
       "item_id         0\n",
       "buy_date        0\n",
       "item_name       0\n",
       "item_price      0\n",
       "category_lv1    0\n",
       "category_lv2    0\n",
       "reginon         0\n",
       "shop_name       0\n",
       "user_name       0\n",
       "sex             0\n",
       "age             0\n",
       "dtype: int64"
      ]
     },
     "execution_count": 53,
     "metadata": {},
     "output_type": "execute_result"
    }
   ],
   "source": [
    "#17\n",
    "\n",
    "combined_df.isnull().sum()"
   ]
  },
  {
   "cell_type": "markdown",
   "id": "bb715b43",
   "metadata": {},
   "source": [
    "必要なカラムのみを使って、分析で使用するデータフレームを作成する。"
   ]
  },
  {
   "cell_type": "code",
   "execution_count": 54,
   "id": "f3ad16b9",
   "metadata": {},
   "outputs": [
    {
     "data": {
      "text/html": [
       "<div>\n",
       "<style scoped>\n",
       "    .dataframe tbody tr th:only-of-type {\n",
       "        vertical-align: middle;\n",
       "    }\n",
       "\n",
       "    .dataframe tbody tr th {\n",
       "        vertical-align: top;\n",
       "    }\n",
       "\n",
       "    .dataframe thead th {\n",
       "        text-align: right;\n",
       "    }\n",
       "</style>\n",
       "<table border=\"1\" class=\"dataframe\">\n",
       "  <thead>\n",
       "    <tr style=\"text-align: right;\">\n",
       "      <th></th>\n",
       "      <th>buy_date</th>\n",
       "      <th>item_price</th>\n",
       "      <th>category_lv2</th>\n",
       "      <th>shop_name</th>\n",
       "      <th>user_name</th>\n",
       "    </tr>\n",
       "  </thead>\n",
       "  <tbody>\n",
       "    <tr>\n",
       "      <th>0</th>\n",
       "      <td>2019-11-22</td>\n",
       "      <td>2232</td>\n",
       "      <td>即席食品</td>\n",
       "      <td>にかほ市店</td>\n",
       "      <td>利用者00088</td>\n",
       "    </tr>\n",
       "    <tr>\n",
       "      <th>1</th>\n",
       "      <td>2019-11-22</td>\n",
       "      <td>2117</td>\n",
       "      <td>化粧品</td>\n",
       "      <td>にかほ市店</td>\n",
       "      <td>利用者00088</td>\n",
       "    </tr>\n",
       "    <tr>\n",
       "      <th>2</th>\n",
       "      <td>2019-11-22</td>\n",
       "      <td>9821</td>\n",
       "      <td>加熱用野菜・きのこ</td>\n",
       "      <td>にかほ市店</td>\n",
       "      <td>利用者00088</td>\n",
       "    </tr>\n",
       "    <tr>\n",
       "      <th>3</th>\n",
       "      <td>2019-11-22</td>\n",
       "      <td>5527</td>\n",
       "      <td>即席食品</td>\n",
       "      <td>にかほ市店</td>\n",
       "      <td>利用者00088</td>\n",
       "    </tr>\n",
       "    <tr>\n",
       "      <th>4</th>\n",
       "      <td>2019-11-22</td>\n",
       "      <td>954</td>\n",
       "      <td>チルドデザート</td>\n",
       "      <td>にかほ市店</td>\n",
       "      <td>利用者00088</td>\n",
       "    </tr>\n",
       "  </tbody>\n",
       "</table>\n",
       "</div>"
      ],
      "text/plain": [
       "    buy_date  item_price category_lv2 shop_name user_name\n",
       "0 2019-11-22        2232         即席食品     にかほ市店  利用者00088\n",
       "1 2019-11-22        2117          化粧品     にかほ市店  利用者00088\n",
       "2 2019-11-22        9821    加熱用野菜・きのこ     にかほ市店  利用者00088\n",
       "3 2019-11-22        5527         即席食品     にかほ市店  利用者00088\n",
       "4 2019-11-22         954      チルドデザート     にかほ市店  利用者00088"
      ]
     },
     "execution_count": 54,
     "metadata": {},
     "output_type": "execute_result"
    }
   ],
   "source": [
    "#18\n",
    "\n",
    "main_df = combined_df[['buy_date','item_price','category_lv2','shop_name','user_name']]\n",
    "main_df.head()"
   ]
  },
  {
   "cell_type": "markdown",
   "id": "381f9411",
   "metadata": {},
   "source": [
    "# 問題1\n",
    "2020年1月1日から12月31日までの1年間について、商品カテゴリ別に売上額と購入者数を計算してください。<br>\n",
    "その上で、売上額Top3の商品カテゴリと、その売上額、購入者数を抽出してください。\n",
    "- 売上額は、商品価格を合算した物です。税などを考慮する必要はありません。\n",
    "- 購入者数は、ある商品を購入した人を重複なく数えたユニークユーザー数の事です。\n",
    "- 商品カテゴリは、category_lv2を使ってください。\n",
    "___"
   ]
  },
  {
   "cell_type": "markdown",
   "id": "c2f2555d",
   "metadata": {},
   "source": [
    "2020年1月1日から12月31日の1年間のみのデータを使ってデータフレームを作成する。"
   ]
  },
  {
   "cell_type": "code",
   "execution_count": 55,
   "id": "2c383333",
   "metadata": {},
   "outputs": [
    {
     "data": {
      "text/html": [
       "<div>\n",
       "<style scoped>\n",
       "    .dataframe tbody tr th:only-of-type {\n",
       "        vertical-align: middle;\n",
       "    }\n",
       "\n",
       "    .dataframe tbody tr th {\n",
       "        vertical-align: top;\n",
       "    }\n",
       "\n",
       "    .dataframe thead th {\n",
       "        text-align: right;\n",
       "    }\n",
       "</style>\n",
       "<table border=\"1\" class=\"dataframe\">\n",
       "  <thead>\n",
       "    <tr style=\"text-align: right;\">\n",
       "      <th></th>\n",
       "      <th>buy_date</th>\n",
       "      <th>item_price</th>\n",
       "      <th>category_lv2</th>\n",
       "      <th>shop_name</th>\n",
       "      <th>user_name</th>\n",
       "    </tr>\n",
       "  </thead>\n",
       "  <tbody>\n",
       "    <tr>\n",
       "      <th>1681</th>\n",
       "      <td>2020-01-01</td>\n",
       "      <td>9710</td>\n",
       "      <td>ベビーフード、穀類、その他</td>\n",
       "      <td>北竜町店</td>\n",
       "      <td>利用者00080</td>\n",
       "    </tr>\n",
       "    <tr>\n",
       "      <th>1664</th>\n",
       "      <td>2020-01-01</td>\n",
       "      <td>5169</td>\n",
       "      <td>飲料</td>\n",
       "      <td>須坂市店</td>\n",
       "      <td>利用者00068</td>\n",
       "    </tr>\n",
       "    <tr>\n",
       "      <th>1669</th>\n",
       "      <td>2020-01-01</td>\n",
       "      <td>433</td>\n",
       "      <td>加熱用野菜・きのこ</td>\n",
       "      <td>須坂市店</td>\n",
       "      <td>利用者00068</td>\n",
       "    </tr>\n",
       "    <tr>\n",
       "      <th>1668</th>\n",
       "      <td>2020-01-01</td>\n",
       "      <td>5481</td>\n",
       "      <td>酒類</td>\n",
       "      <td>須坂市店</td>\n",
       "      <td>利用者00068</td>\n",
       "    </tr>\n",
       "    <tr>\n",
       "      <th>1670</th>\n",
       "      <td>2020-01-01</td>\n",
       "      <td>1498</td>\n",
       "      <td>オーラルケア用品</td>\n",
       "      <td>須坂市店</td>\n",
       "      <td>利用者00068</td>\n",
       "    </tr>\n",
       "    <tr>\n",
       "      <th>...</th>\n",
       "      <td>...</td>\n",
       "      <td>...</td>\n",
       "      <td>...</td>\n",
       "      <td>...</td>\n",
       "      <td>...</td>\n",
       "    </tr>\n",
       "    <tr>\n",
       "      <th>6402</th>\n",
       "      <td>2020-12-31</td>\n",
       "      <td>4472</td>\n",
       "      <td>キッチン消耗品</td>\n",
       "      <td>伊予市店</td>\n",
       "      <td>利用者00069</td>\n",
       "    </tr>\n",
       "    <tr>\n",
       "      <th>1608</th>\n",
       "      <td>2020-12-31</td>\n",
       "      <td>6639</td>\n",
       "      <td>バスボディケア用品</td>\n",
       "      <td>上富田町店</td>\n",
       "      <td>利用者00082</td>\n",
       "    </tr>\n",
       "    <tr>\n",
       "      <th>1609</th>\n",
       "      <td>2020-12-31</td>\n",
       "      <td>4508</td>\n",
       "      <td>身だしなみ用品</td>\n",
       "      <td>上富田町店</td>\n",
       "      <td>利用者00082</td>\n",
       "    </tr>\n",
       "    <tr>\n",
       "      <th>6403</th>\n",
       "      <td>2020-12-31</td>\n",
       "      <td>2515</td>\n",
       "      <td>漬物、総菜</td>\n",
       "      <td>伊予市店</td>\n",
       "      <td>利用者00069</td>\n",
       "    </tr>\n",
       "    <tr>\n",
       "      <th>19378</th>\n",
       "      <td>2020-12-31</td>\n",
       "      <td>4810</td>\n",
       "      <td>畜肉加工品</td>\n",
       "      <td>御前崎市店</td>\n",
       "      <td>利用者00055</td>\n",
       "    </tr>\n",
       "  </tbody>\n",
       "</table>\n",
       "<p>11192 rows × 5 columns</p>\n",
       "</div>"
      ],
      "text/plain": [
       "        buy_date  item_price    category_lv2 shop_name user_name\n",
       "1681  2020-01-01        9710   ベビーフード、穀類、その他      北竜町店  利用者00080\n",
       "1664  2020-01-01        5169              飲料      須坂市店  利用者00068\n",
       "1669  2020-01-01         433       加熱用野菜・きのこ      須坂市店  利用者00068\n",
       "1668  2020-01-01        5481              酒類      須坂市店  利用者00068\n",
       "1670  2020-01-01        1498        オーラルケア用品      須坂市店  利用者00068\n",
       "...          ...         ...             ...       ...       ...\n",
       "6402  2020-12-31        4472         キッチン消耗品      伊予市店  利用者00069\n",
       "1608  2020-12-31        6639       バスボディケア用品     上富田町店  利用者00082\n",
       "1609  2020-12-31        4508         身だしなみ用品     上富田町店  利用者00082\n",
       "6403  2020-12-31        2515           漬物、総菜      伊予市店  利用者00069\n",
       "19378 2020-12-31        4810           畜肉加工品     御前崎市店  利用者00055\n",
       "\n",
       "[11192 rows x 5 columns]"
      ]
     },
     "execution_count": 55,
     "metadata": {},
     "output_type": "execute_result"
    }
   ],
   "source": [
    "#19\n",
    "\n",
    "main_2020_df = main_df[(main_df['buy_date'] >= '2020-01-01')&(main_df['buy_date'] <= '2020-12-31')]\n",
    "main_2020_df.sort_values('buy_date')"
   ]
  },
  {
   "cell_type": "markdown",
   "id": "0b293699",
   "metadata": {},
   "source": [
    "商品カテゴリ別に売上額と購入者数を計算して、売上額Top3の商品カテゴリと、その売上額、購入者数を抽出する。"
   ]
  },
  {
   "cell_type": "code",
   "execution_count": 56,
   "id": "108cc0f6",
   "metadata": {},
   "outputs": [],
   "source": [
    "#20\n",
    "\n",
    "#購入者数をカウントする関数。\n",
    "def count_unique_user(user_id):\n",
    "    return user_id.nunique()"
   ]
  },
  {
   "cell_type": "code",
   "execution_count": 57,
   "id": "4b45865a",
   "metadata": {},
   "outputs": [],
   "source": [
    "#21\n",
    "\n",
    "#'category_lv2'でグルーピングして商品カテゴリごとに分ける。'item_price'を使い売上額を計算、'user_name'を使い購入者数をカウントし、売上額の大きい上位3件を抽出する。\n",
    "category_top_3_df = main_2020_df[['user_name','category_lv2','item_price',]].groupby('category_lv2', as_index=False)\\\n",
    "    .agg({'item_price': np.sum, 'user_name': count_unique_user}).rename(columns={'item_price': 'sum_of_item_price', 'user_name': 'num_of_nunique_user'})\\\n",
    "                .sort_values('sum_of_item_price', ascending=False).head(3)\n",
    "\n",
    "#'Rank'をインデックスに付け足す。\n",
    "category_top_3_df['Rank'] = np.arange(1, len(category_top_3_df)+1)\n",
    "category_top_3_df.set_index('Rank', inplace=True) \n"
   ]
  },
  {
   "cell_type": "markdown",
   "id": "b6a080c1",
   "metadata": {},
   "source": [
    "### <span style=\"color: red; \">問題1 解答</span>"
   ]
  },
  {
   "cell_type": "code",
   "execution_count": 58,
   "id": "d5ac6d27",
   "metadata": {},
   "outputs": [
    {
     "data": {
      "text/html": [
       "<div>\n",
       "<style scoped>\n",
       "    .dataframe tbody tr th:only-of-type {\n",
       "        vertical-align: middle;\n",
       "    }\n",
       "\n",
       "    .dataframe tbody tr th {\n",
       "        vertical-align: top;\n",
       "    }\n",
       "\n",
       "    .dataframe thead th {\n",
       "        text-align: right;\n",
       "    }\n",
       "</style>\n",
       "<table border=\"1\" class=\"dataframe\">\n",
       "  <thead>\n",
       "    <tr style=\"text-align: right;\">\n",
       "      <th></th>\n",
       "      <th>category_lv2</th>\n",
       "      <th>sum_of_item_price</th>\n",
       "      <th>num_of_nunique_user</th>\n",
       "    </tr>\n",
       "    <tr>\n",
       "      <th>Rank</th>\n",
       "      <th></th>\n",
       "      <th></th>\n",
       "      <th></th>\n",
       "    </tr>\n",
       "  </thead>\n",
       "  <tbody>\n",
       "    <tr>\n",
       "      <th>1</th>\n",
       "      <td>バスボディケア用品</td>\n",
       "      <td>6287234</td>\n",
       "      <td>99</td>\n",
       "    </tr>\n",
       "    <tr>\n",
       "      <th>2</th>\n",
       "      <td>酒類</td>\n",
       "      <td>3769618</td>\n",
       "      <td>100</td>\n",
       "    </tr>\n",
       "    <tr>\n",
       "      <th>3</th>\n",
       "      <td>加熱用野菜・きのこ</td>\n",
       "      <td>3119028</td>\n",
       "      <td>100</td>\n",
       "    </tr>\n",
       "  </tbody>\n",
       "</table>\n",
       "</div>"
      ],
      "text/plain": [
       "     category_lv2  sum_of_item_price  num_of_nunique_user\n",
       "Rank                                                     \n",
       "1       バスボディケア用品            6287234                   99\n",
       "2              酒類            3769618                  100\n",
       "3       加熱用野菜・きのこ            3119028                  100"
      ]
     },
     "execution_count": 58,
     "metadata": {},
     "output_type": "execute_result"
    }
   ],
   "source": [
    "#22\n",
    "\n",
    "category_top_3_df"
   ]
  },
  {
   "cell_type": "markdown",
   "id": "ab20805f",
   "metadata": {},
   "source": [
    "# 問題2-1\n",
    "2020年1月1日から12月31日までの1年間について「バスボディケア用品」の売上額が最も大きかった店舗を1つ抽出してください。\n",
    "___"
   ]
  },
  {
   "cell_type": "markdown",
   "id": "0f1d6190",
   "metadata": {},
   "source": [
    "バスボディケア用品のみのデータを使ってデータフレームを作成する。"
   ]
  },
  {
   "cell_type": "code",
   "execution_count": 59,
   "id": "6f5638de",
   "metadata": {},
   "outputs": [
    {
     "data": {
      "text/html": [
       "<div>\n",
       "<style scoped>\n",
       "    .dataframe tbody tr th:only-of-type {\n",
       "        vertical-align: middle;\n",
       "    }\n",
       "\n",
       "    .dataframe tbody tr th {\n",
       "        vertical-align: top;\n",
       "    }\n",
       "\n",
       "    .dataframe thead th {\n",
       "        text-align: right;\n",
       "    }\n",
       "</style>\n",
       "<table border=\"1\" class=\"dataframe\">\n",
       "  <thead>\n",
       "    <tr style=\"text-align: right;\">\n",
       "      <th></th>\n",
       "      <th>buy_date</th>\n",
       "      <th>item_price</th>\n",
       "      <th>category_lv2</th>\n",
       "      <th>shop_name</th>\n",
       "      <th>user_name</th>\n",
       "    </tr>\n",
       "  </thead>\n",
       "  <tbody>\n",
       "    <tr>\n",
       "      <th>67</th>\n",
       "      <td>2020-02-24</td>\n",
       "      <td>6639</td>\n",
       "      <td>バスボディケア用品</td>\n",
       "      <td>須坂市店</td>\n",
       "      <td>利用者00063</td>\n",
       "    </tr>\n",
       "    <tr>\n",
       "      <th>80</th>\n",
       "      <td>2020-08-07</td>\n",
       "      <td>8191</td>\n",
       "      <td>バスボディケア用品</td>\n",
       "      <td>松伏町店</td>\n",
       "      <td>利用者00010</td>\n",
       "    </tr>\n",
       "    <tr>\n",
       "      <th>143</th>\n",
       "      <td>2020-03-05</td>\n",
       "      <td>6639</td>\n",
       "      <td>バスボディケア用品</td>\n",
       "      <td>北竜町店</td>\n",
       "      <td>利用者00006</td>\n",
       "    </tr>\n",
       "    <tr>\n",
       "      <th>148</th>\n",
       "      <td>2020-03-05</td>\n",
       "      <td>5482</td>\n",
       "      <td>バスボディケア用品</td>\n",
       "      <td>北竜町店</td>\n",
       "      <td>利用者00006</td>\n",
       "    </tr>\n",
       "    <tr>\n",
       "      <th>156</th>\n",
       "      <td>2020-04-01</td>\n",
       "      <td>8191</td>\n",
       "      <td>バスボディケア用品</td>\n",
       "      <td>南陽市店</td>\n",
       "      <td>利用者00044</td>\n",
       "    </tr>\n",
       "  </tbody>\n",
       "</table>\n",
       "</div>"
      ],
      "text/plain": [
       "      buy_date  item_price category_lv2 shop_name user_name\n",
       "67  2020-02-24        6639    バスボディケア用品      須坂市店  利用者00063\n",
       "80  2020-08-07        8191    バスボディケア用品      松伏町店  利用者00010\n",
       "143 2020-03-05        6639    バスボディケア用品      北竜町店  利用者00006\n",
       "148 2020-03-05        5482    バスボディケア用品      北竜町店  利用者00006\n",
       "156 2020-04-01        8191    バスボディケア用品      南陽市店  利用者00044"
      ]
     },
     "execution_count": 59,
     "metadata": {},
     "output_type": "execute_result"
    }
   ],
   "source": [
    "#23\n",
    "\n",
    "bath_body_care_2020_df = main_2020_df[main_2020_df['category_lv2'] == ' バスボディケア用品']\n",
    "bath_body_care_2020_df.head()"
   ]
  },
  {
   "cell_type": "markdown",
   "id": "8fe56c6e",
   "metadata": {},
   "source": [
    "　売上額が大きかった店舗Top5を抽出する。"
   ]
  },
  {
   "cell_type": "code",
   "execution_count": 60,
   "id": "80f53774",
   "metadata": {},
   "outputs": [
    {
     "data": {
      "text/html": [
       "<div>\n",
       "<style scoped>\n",
       "    .dataframe tbody tr th:only-of-type {\n",
       "        vertical-align: middle;\n",
       "    }\n",
       "\n",
       "    .dataframe tbody tr th {\n",
       "        vertical-align: top;\n",
       "    }\n",
       "\n",
       "    .dataframe thead th {\n",
       "        text-align: right;\n",
       "    }\n",
       "</style>\n",
       "<table border=\"1\" class=\"dataframe\">\n",
       "  <thead>\n",
       "    <tr style=\"text-align: right;\">\n",
       "      <th></th>\n",
       "      <th>shop_name</th>\n",
       "      <th>sum_of_item_price</th>\n",
       "    </tr>\n",
       "    <tr>\n",
       "      <th>Rank</th>\n",
       "      <th></th>\n",
       "      <th></th>\n",
       "    </tr>\n",
       "  </thead>\n",
       "  <tbody>\n",
       "    <tr>\n",
       "      <th>1</th>\n",
       "      <td>北竜町店</td>\n",
       "      <td>476683</td>\n",
       "    </tr>\n",
       "    <tr>\n",
       "      <th>2</th>\n",
       "      <td>三鷹市店</td>\n",
       "      <td>367903</td>\n",
       "    </tr>\n",
       "    <tr>\n",
       "      <th>3</th>\n",
       "      <td>松伏町店</td>\n",
       "      <td>365287</td>\n",
       "    </tr>\n",
       "  </tbody>\n",
       "</table>\n",
       "</div>"
      ],
      "text/plain": [
       "     shop_name  sum_of_item_price\n",
       "Rank                             \n",
       "1         北竜町店             476683\n",
       "2         三鷹市店             367903\n",
       "3         松伏町店             365287"
      ]
     },
     "execution_count": 60,
     "metadata": {},
     "output_type": "execute_result"
    }
   ],
   "source": [
    "#24\n",
    "\n",
    "#'shop_name'でグルーピングして店舗ごとに分ける。'item_price'を使い売上額を計算、売上額の大きい上位3件を抽出する。\n",
    "bath_body_care_top_3_df = bath_body_care_2020_df[['shop_name','item_price']].groupby('shop_name', as_index=False).agg({'item_price': np.sum})\\\n",
    "    .rename(columns={'item_price': 'sum_of_item_price'}).sort_values('sum_of_item_price', ascending=False).head(3)\n",
    "\n",
    "#'Rank'をインデックスに付け足す。\n",
    "bath_body_care_top_3_df['Rank'] = np.arange(1, len(bath_body_care_top_3_df)+1)\n",
    "bath_body_care_top_3_df.set_index('Rank', inplace=True) \n",
    "\n",
    "bath_body_care_top_3_df"
   ]
  },
  {
   "cell_type": "markdown",
   "id": "b9a39629",
   "metadata": {},
   "source": [
    "### <span style=\"color: red; \">問題2-1 解答</span>\n",
    "2020年1月1日から12月31日までの1年間について「バスボディケア用品」の売上額が最も大きかった店舗は北竜町店である。"
   ]
  },
  {
   "cell_type": "markdown",
   "id": "f1234514",
   "metadata": {},
   "source": [
    "# 問題2-2\n",
    "さらに、その店舗の客単価と購入者数を月毎に計算してください。<br> \n",
    "客単価と購入者数は、「全商品カテゴリ」と「バスボディケア用品のみ」の2パターンを計算してください。\n",
    "- 客単価とは、購入者1人あたりの平均売上の事です。\n",
    "- 商品カテゴリは、category_lv2を使ってください。\n",
    "___"
   ]
  },
  {
   "cell_type": "markdown",
   "id": "e3a4f780",
   "metadata": {},
   "source": [
    "北竜町店のみのデータを使ってデータフレームを作成する。<br>\n",
    "カラム`month`を追加する。\n"
   ]
  },
  {
   "cell_type": "code",
   "execution_count": 61,
   "id": "ac1b14b4",
   "metadata": {},
   "outputs": [
    {
     "data": {
      "text/html": [
       "<div>\n",
       "<style scoped>\n",
       "    .dataframe tbody tr th:only-of-type {\n",
       "        vertical-align: middle;\n",
       "    }\n",
       "\n",
       "    .dataframe tbody tr th {\n",
       "        vertical-align: top;\n",
       "    }\n",
       "\n",
       "    .dataframe thead th {\n",
       "        text-align: right;\n",
       "    }\n",
       "</style>\n",
       "<table border=\"1\" class=\"dataframe\">\n",
       "  <thead>\n",
       "    <tr style=\"text-align: right;\">\n",
       "      <th></th>\n",
       "      <th>item_price</th>\n",
       "      <th>category_lv2</th>\n",
       "      <th>shop_name</th>\n",
       "      <th>user_name</th>\n",
       "      <th>month</th>\n",
       "    </tr>\n",
       "  </thead>\n",
       "  <tbody>\n",
       "    <tr>\n",
       "      <th>142</th>\n",
       "      <td>5527</td>\n",
       "      <td>即席食品</td>\n",
       "      <td>北竜町店</td>\n",
       "      <td>利用者00006</td>\n",
       "      <td>2020年3月</td>\n",
       "    </tr>\n",
       "    <tr>\n",
       "      <th>143</th>\n",
       "      <td>6639</td>\n",
       "      <td>バスボディケア用品</td>\n",
       "      <td>北竜町店</td>\n",
       "      <td>利用者00006</td>\n",
       "      <td>2020年3月</td>\n",
       "    </tr>\n",
       "    <tr>\n",
       "      <th>144</th>\n",
       "      <td>1515</td>\n",
       "      <td>コーヒー、紅茶、緑茶</td>\n",
       "      <td>北竜町店</td>\n",
       "      <td>利用者00006</td>\n",
       "      <td>2020年3月</td>\n",
       "    </tr>\n",
       "    <tr>\n",
       "      <th>145</th>\n",
       "      <td>1498</td>\n",
       "      <td>オーラルケア用品</td>\n",
       "      <td>北竜町店</td>\n",
       "      <td>利用者00006</td>\n",
       "      <td>2020年3月</td>\n",
       "    </tr>\n",
       "    <tr>\n",
       "      <th>146</th>\n",
       "      <td>6132</td>\n",
       "      <td>チルドデザート</td>\n",
       "      <td>北竜町店</td>\n",
       "      <td>利用者00006</td>\n",
       "      <td>2020年3月</td>\n",
       "    </tr>\n",
       "  </tbody>\n",
       "</table>\n",
       "</div>"
      ],
      "text/plain": [
       "     item_price category_lv2 shop_name user_name    month\n",
       "142        5527         即席食品      北竜町店  利用者00006  2020年3月\n",
       "143        6639    バスボディケア用品      北竜町店  利用者00006  2020年3月\n",
       "144        1515   コーヒー、紅茶、緑茶      北竜町店  利用者00006  2020年3月\n",
       "145        1498     オーラルケア用品      北竜町店  利用者00006  2020年3月\n",
       "146        6132      チルドデザート      北竜町店  利用者00006  2020年3月"
      ]
     },
     "execution_count": 61,
     "metadata": {},
     "output_type": "execute_result"
    }
   ],
   "source": [
    "#25\n",
    "\n",
    "hokuryuu_cho_2020_df = main_2020_df[main_2020_df['shop_name'] == '北竜町店']\n",
    "\n",
    "#'buy_date'の月だけを抽出してカラム'month'を作成する。カラム'buy_date'を削除する。\n",
    "hokuryuu_cho_2020_df[\"month\"] = hokuryuu_cho_2020_df['buy_date'].apply(lambda d: f\"2020年{d.month}月\")\n",
    "hokuryuu_cho_2020_df.drop(['buy_date'], axis=1, inplace=True)\n",
    "\n",
    "hokuryuu_cho_2020_df.head()"
   ]
  },
  {
   "cell_type": "markdown",
   "id": "cf528c51",
   "metadata": {},
   "source": [
    "北竜町店の客単価と購入者数を月毎「全商品カテゴリ」と「バスボディケア用品のみ」の2パターン計算する。"
   ]
  },
  {
   "cell_type": "code",
   "execution_count": 62,
   "id": "a17a43d2",
   "metadata": {},
   "outputs": [],
   "source": [
    "#26\n",
    "\n",
    "#全商品カテゴリの客単価と購入者数を抽出しデータフレームを作成する。\n",
    "\n",
    "#'month'でグルーピングして月ごとに分ける。'user_name'を使い購入者数をカウント、'item_price'を使い売上額を計算する。\n",
    "hokuryuu_cho_2020_all_category_df = hokuryuu_cho_2020_df[['month', 'user_name', 'item_price']].groupby('month')\\\n",
    "            .agg({'user_name': count_unique_user, 'item_price': np.sum}).rename(columns={'user_name': 'num_of_nunique_user', 'item_price': 'sum_of_item_price'})\n",
    "\n",
    "#'sum_of_item_price'(売上額)を'num_of_nunique_user'(購入者数)で割って'customer_unit_price'(客単価)を抽出する。\n",
    "hokuryuu_cho_2020_all_category_df['customer_unit_price'] = round(hokuryuu_cho_2020_all_category_df['sum_of_item_price']/hokuryuu_cho_2020_all_category_df['num_of_nunique_user'], 2)\n",
    "hokuryuu_cho_2020_all_category_df.drop('sum_of_item_price', axis=1, inplace=True)"
   ]
  },
  {
   "cell_type": "code",
   "execution_count": 63,
   "id": "a1cb1adf",
   "metadata": {},
   "outputs": [],
   "source": [
    "#27\n",
    "\n",
    "#バスボディケア用品のみの客単価と購入者数を抽出しデータフレームを作成する。\n",
    "\n",
    "#バスボディケア用品のみのデータフレームを作成。\n",
    "hokuryuu_cho_2020_bath_body_care_df = hokuryuu_cho_2020_df[hokuryuu_cho_2020_df['category_lv2'] == ' バスボディケア用品']\n",
    "\n",
    "#'month'でグルーピングして月ごとに分ける。'user_name'を使い購入者数をカウント、'item_price'を使い売上額を計算する。\n",
    "hokuryuu_cho_2020_bath_body_care_df = hokuryuu_cho_2020_bath_body_care_df[['month', 'user_name', 'item_price']].groupby('month')\\\n",
    "            .agg({'user_name': count_unique_user, 'item_price': np.sum}).rename(columns={'user_name': 'num_of_nunique_user', 'item_price': 'sum_of_item_price'})\n",
    "            \n",
    "#'sum_of_item_price'(売上額)を'num_of_nunique_user'(購入者数)で割って'customer_unit_price'(客単価)を抽出する。\n",
    "hokuryuu_cho_2020_bath_body_care_df['customer_unit_price'] = round(hokuryuu_cho_2020_bath_body_care_df['sum_of_item_price']/hokuryuu_cho_2020_bath_body_care_df['num_of_nunique_user'], 2)\n",
    "hokuryuu_cho_2020_bath_body_care_df.drop('sum_of_item_price', axis=1, inplace=True)"
   ]
  },
  {
   "cell_type": "code",
   "execution_count": 64,
   "id": "8c6d9d1e",
   "metadata": {},
   "outputs": [],
   "source": [
    "#28\n",
    "\n",
    "#全商品カテゴリデータフレームとバスボディケア用品を結合する。\n",
    "all_category_and_bath_body_care_df = hokuryuu_cho_2020_all_category_df.merge(hokuryuu_cho_2020_bath_body_care_df, on='month', suffixes=('_all_categories', '_bath_body_care'))\n",
    "\n",
    "#インデックス'month'を1月から順番に並び替える。\n",
    "order_of_month_list = []\n",
    "for month in range(1, 13):\n",
    "    order_of_month_list.append(f\"2020年{month}月\")\n",
    "all_category_and_bath_body_care_df = all_category_and_bath_body_care_df.reindex(index=order_of_month_list)\n",
    "\n",
    "#インデックス'month'をカラムに加えて、インデックスをリセットする。\n",
    "all_category_and_bath_body_care_df = all_category_and_bath_body_care_df.rename_axis('month').reset_index()"
   ]
  },
  {
   "cell_type": "markdown",
   "id": "ebee37f8",
   "metadata": {},
   "source": [
    "### <span style=\"color: red; \">問題2-2 解答</span>"
   ]
  },
  {
   "cell_type": "code",
   "execution_count": 65,
   "id": "3a247a78",
   "metadata": {},
   "outputs": [
    {
     "data": {
      "text/html": [
       "<div>\n",
       "<style scoped>\n",
       "    .dataframe tbody tr th:only-of-type {\n",
       "        vertical-align: middle;\n",
       "    }\n",
       "\n",
       "    .dataframe tbody tr th {\n",
       "        vertical-align: top;\n",
       "    }\n",
       "\n",
       "    .dataframe thead th {\n",
       "        text-align: right;\n",
       "    }\n",
       "</style>\n",
       "<table border=\"1\" class=\"dataframe\">\n",
       "  <thead>\n",
       "    <tr style=\"text-align: right;\">\n",
       "      <th></th>\n",
       "      <th>month</th>\n",
       "      <th>num_of_nunique_user_all_categories</th>\n",
       "      <th>customer_unit_price_all_categories</th>\n",
       "      <th>num_of_nunique_user_bath_body_care</th>\n",
       "      <th>customer_unit_price_bath_body_care</th>\n",
       "    </tr>\n",
       "  </thead>\n",
       "  <tbody>\n",
       "    <tr>\n",
       "      <th>0</th>\n",
       "      <td>2020年1月</td>\n",
       "      <td>8</td>\n",
       "      <td>25608.88</td>\n",
       "      <td>4</td>\n",
       "      <td>14273.00</td>\n",
       "    </tr>\n",
       "    <tr>\n",
       "      <th>1</th>\n",
       "      <td>2020年2月</td>\n",
       "      <td>11</td>\n",
       "      <td>26493.55</td>\n",
       "      <td>3</td>\n",
       "      <td>7233.00</td>\n",
       "    </tr>\n",
       "    <tr>\n",
       "      <th>2</th>\n",
       "      <td>2020年3月</td>\n",
       "      <td>12</td>\n",
       "      <td>25308.42</td>\n",
       "      <td>3</td>\n",
       "      <td>14165.33</td>\n",
       "    </tr>\n",
       "    <tr>\n",
       "      <th>3</th>\n",
       "      <td>2020年4月</td>\n",
       "      <td>7</td>\n",
       "      <td>20683.57</td>\n",
       "      <td>3</td>\n",
       "      <td>9022.00</td>\n",
       "    </tr>\n",
       "    <tr>\n",
       "      <th>4</th>\n",
       "      <td>2020年5月</td>\n",
       "      <td>11</td>\n",
       "      <td>25848.27</td>\n",
       "      <td>4</td>\n",
       "      <td>13673.50</td>\n",
       "    </tr>\n",
       "    <tr>\n",
       "      <th>5</th>\n",
       "      <td>2020年6月</td>\n",
       "      <td>7</td>\n",
       "      <td>20469.86</td>\n",
       "      <td>2</td>\n",
       "      <td>9310.00</td>\n",
       "    </tr>\n",
       "    <tr>\n",
       "      <th>6</th>\n",
       "      <td>2020年7月</td>\n",
       "      <td>7</td>\n",
       "      <td>25932.57</td>\n",
       "      <td>1</td>\n",
       "      <td>13278.00</td>\n",
       "    </tr>\n",
       "    <tr>\n",
       "      <th>7</th>\n",
       "      <td>2020年8月</td>\n",
       "      <td>13</td>\n",
       "      <td>29273.46</td>\n",
       "      <td>6</td>\n",
       "      <td>12657.00</td>\n",
       "    </tr>\n",
       "    <tr>\n",
       "      <th>8</th>\n",
       "      <td>2020年9月</td>\n",
       "      <td>9</td>\n",
       "      <td>22282.11</td>\n",
       "      <td>2</td>\n",
       "      <td>8446.00</td>\n",
       "    </tr>\n",
       "    <tr>\n",
       "      <th>9</th>\n",
       "      <td>2020年10月</td>\n",
       "      <td>10</td>\n",
       "      <td>21571.10</td>\n",
       "      <td>3</td>\n",
       "      <td>13701.67</td>\n",
       "    </tr>\n",
       "    <tr>\n",
       "      <th>10</th>\n",
       "      <td>2020年11月</td>\n",
       "      <td>12</td>\n",
       "      <td>23607.75</td>\n",
       "      <td>6</td>\n",
       "      <td>11548.50</td>\n",
       "    </tr>\n",
       "    <tr>\n",
       "      <th>11</th>\n",
       "      <td>2020年12月</td>\n",
       "      <td>11</td>\n",
       "      <td>22117.73</td>\n",
       "      <td>4</td>\n",
       "      <td>9627.00</td>\n",
       "    </tr>\n",
       "  </tbody>\n",
       "</table>\n",
       "</div>"
      ],
      "text/plain": [
       "       month  num_of_nunique_user_all_categories  \\\n",
       "0    2020年1月                                   8   \n",
       "1    2020年2月                                  11   \n",
       "2    2020年3月                                  12   \n",
       "3    2020年4月                                   7   \n",
       "4    2020年5月                                  11   \n",
       "5    2020年6月                                   7   \n",
       "6    2020年7月                                   7   \n",
       "7    2020年8月                                  13   \n",
       "8    2020年9月                                   9   \n",
       "9   2020年10月                                  10   \n",
       "10  2020年11月                                  12   \n",
       "11  2020年12月                                  11   \n",
       "\n",
       "    customer_unit_price_all_categories  num_of_nunique_user_bath_body_care  \\\n",
       "0                             25608.88                                   4   \n",
       "1                             26493.55                                   3   \n",
       "2                             25308.42                                   3   \n",
       "3                             20683.57                                   3   \n",
       "4                             25848.27                                   4   \n",
       "5                             20469.86                                   2   \n",
       "6                             25932.57                                   1   \n",
       "7                             29273.46                                   6   \n",
       "8                             22282.11                                   2   \n",
       "9                             21571.10                                   3   \n",
       "10                            23607.75                                   6   \n",
       "11                            22117.73                                   4   \n",
       "\n",
       "    customer_unit_price_bath_body_care  \n",
       "0                             14273.00  \n",
       "1                              7233.00  \n",
       "2                             14165.33  \n",
       "3                              9022.00  \n",
       "4                             13673.50  \n",
       "5                              9310.00  \n",
       "6                             13278.00  \n",
       "7                             12657.00  \n",
       "8                              8446.00  \n",
       "9                             13701.67  \n",
       "10                            11548.50  \n",
       "11                             9627.00  "
      ]
     },
     "execution_count": 65,
     "metadata": {},
     "output_type": "execute_result"
    }
   ],
   "source": [
    "#29\n",
    "\n",
    "all_category_and_bath_body_care_df"
   ]
  }
 ],
 "metadata": {
  "interpreter": {
   "hash": "85094c22a70d9a920ae9c057df293a164b47efdeb27f1fcd1eefac4aefb23a40"
  },
  "kernelspec": {
   "display_name": "Python 3.8.11 ('kaggle_3')",
   "language": "python",
   "name": "python3"
  },
  "language_info": {
   "codemirror_mode": {
    "name": "ipython",
    "version": 3
   },
   "file_extension": ".py",
   "mimetype": "text/x-python",
   "name": "python",
   "nbconvert_exporter": "python",
   "pygments_lexer": "ipython3",
   "version": "3.8.11"
  }
 },
 "nbformat": 4,
 "nbformat_minor": 5
}
